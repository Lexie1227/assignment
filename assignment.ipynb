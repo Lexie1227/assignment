{
  "nbformat": 4,
  "nbformat_minor": 0,
  "metadata": {
    "colab": {
      "name": "fixed",
      "provenance": [],
      "authorship_tag": "ABX9TyP08dwg1TEg0m26hysXx1+R",
      "include_colab_link": true
    },
    "kernelspec": {
      "name": "python3",
      "display_name": "Python 3"
    },
    "language_info": {
      "name": "python"
    }
  },
  "cells": [
    {
      "cell_type": "markdown",
      "metadata": {
        "id": "view-in-github",
        "colab_type": "text"
      },
      "source": [
        "<a href=\"https://colab.research.google.com/github/Lexie1227/assignment/blob/main/assignment.ipynb\" target=\"_parent\"><img src=\"https://colab.research.google.com/assets/colab-badge.svg\" alt=\"Open In Colab\"/></a>"
      ]
    },
    {
      "cell_type": "code",
      "metadata": {
        "colab": {
          "base_uri": "https://localhost:8080/"
        },
        "id": "BGG-0vKIp9BW",
        "outputId": "ef0eae29-5a94-4515-cc3f-2b95b23d4633"
      },
      "source": [
        "#use ticker to get page\n",
        "company_ticker = input(\"What is your Company's Stock Market Ticker Symbol? \")\n",
        "url = \"https://au.finance.yahoo.com/quote/{}/profile?p={}\".format(company_ticker,company_ticker)\n",
        "print(url)"
      ],
      "execution_count": null,
      "outputs": [
        {
          "output_type": "stream",
          "name": "stdout",
          "text": [
            "What is your Company's Stock Market Ticker Symbol? FB\n",
            "https://au.finance.yahoo.com/quote/FB/profile?p=FB\n"
          ]
        }
      ]
    },
    {
      "cell_type": "code",
      "metadata": {
        "id": "UmPGGPzqmHXa"
      },
      "source": [
        "def build_url():\n",
        "  # User input ticker symbol\n",
        "  ticker_symbol = input(\"Please input ticker symbol \")\n",
        "  \n",
        "  # print(ticker_symbol)\n",
        "  example_url = 'https://au.finance.yahoo.com/quote/{}/profile?p={}'\n",
        "  result = example_url.format(ticker_symbol, ticker_symbol)\n",
        "  return result"
      ],
      "execution_count": null,
      "outputs": []
    },
    {
      "cell_type": "code",
      "metadata": {
        "id": "pRXiNwOgmquD",
        "colab": {
          "base_uri": "https://localhost:8080/"
        },
        "outputId": "0f82d2f2-cdcf-4a1d-c73c-5bc934dff427"
      },
      "source": [
        "#get url\n",
        "url = build_url()\n",
        "print(url)\n"
      ],
      "execution_count": null,
      "outputs": [
        {
          "output_type": "stream",
          "name": "stdout",
          "text": [
            "Please input ticker symbol FB\n",
            "https://au.finance.yahoo.com/quote/FB/profile?p=FB\n"
          ]
        }
      ]
    },
    {
      "cell_type": "code",
      "metadata": {
        "colab": {
          "base_uri": "https://localhost:8080/"
        },
        "id": "0IGxY1uIqzW7",
        "outputId": "318e1113-201f-4606-a4a7-834ead7ceeb0"
      },
      "source": [
        "# Usually run of Google Coolab, so install unique packages\n",
        "!pip install kora -q\n",
        "\n",
        "#load packages\n",
        "from bs4 import BeautifulSoup\n",
        "from kora.selenium import wd\n",
        "import pandas as pd"
      ],
      "execution_count": null,
      "outputs": [
        {
          "output_type": "stream",
          "name": "stdout",
          "text": [
            "\u001b[K     |████████████████████████████████| 57 kB 2.3 MB/s \n",
            "\u001b[K     |████████████████████████████████| 56 kB 3.3 MB/s \n",
            "\u001b[?25h"
          ]
        }
      ]
    },
    {
      "cell_type": "code",
      "metadata": {
        "id": "BRN343qVq2gK"
      },
      "source": [
        "#get soup\n",
        "wd.get(url)\n",
        "soup = BeautifulSoup(wd.page_source,\"html.parser\")\n",
        "soup"
      ],
      "execution_count": null,
      "outputs": []
    },
    {
      "cell_type": "code",
      "metadata": {
        "colab": {
          "base_uri": "https://localhost:8080/"
        },
        "id": "j0hk2Ey1r2qa",
        "outputId": "af24b5c1-6a16-40ad-cb61-33a0419f42c0"
      },
      "source": [
        "table = soup.find('table')\n",
        "body =table.find('tbody')\n",
        "rows = body.find_all('tr')\n",
        "\n",
        "# work rows\n",
        "row = rows[0]\n",
        "\n",
        "cells = row.find_all('td')\n",
        "name = cells[0].text\n",
        "title = cells[1].text\n",
        "pay = cells[2].text\n",
        "print(pay)"
      ],
      "execution_count": null,
      "outputs": [
        {
          "output_type": "stream",
          "name": "stdout",
          "text": [
            "25.29M\n"
          ]
        }
      ]
    },
    {
      "cell_type": "code",
      "metadata": {
        "id": "8fnuO5XJuxM8"
      },
      "source": [
        "def get_first_3_cells(row):\n",
        "  cells = row.find_all('td')\n",
        "  name = cells[0].text\n",
        "  title = cells[1].text\n",
        "  pay = cells[2].text\n",
        "  return {'name': name, 'title': title, 'pay': pay}\n"
      ],
      "execution_count": null,
      "outputs": []
    },
    {
      "cell_type": "code",
      "metadata": {
        "colab": {
          "base_uri": "https://localhost:8080/"
        },
        "id": "V5wkrQw8vICv",
        "outputId": "f8ce176d-b69a-4b32-bdc7-e6ad510f3ac1"
      },
      "source": [
        "get_first_3_cells(rows[1])"
      ],
      "execution_count": null,
      "outputs": [
        {
          "output_type": "execute_result",
          "data": {
            "text/plain": [
              "{'name': 'Mr. David M. Wehner',\n",
              " 'pay': '1.77M',\n",
              " 'title': 'Chief Financial Officer'}"
            ]
          },
          "metadata": {},
          "execution_count": 37
        }
      ]
    },
    {
      "cell_type": "code",
      "metadata": {
        "colab": {
          "base_uri": "https://localhost:8080/"
        },
        "id": "OfS3Q1DKvioc",
        "outputId": "9731aded-094e-4267-a9b0-e990fa0f9938"
      },
      "source": [
        "exec_records = []\n",
        "for row in rows:\n",
        "  result = get_first_3_cells(row)\n",
        "  exec_records.append(result)\n",
        "\n",
        "print(exec_records)"
      ],
      "execution_count": null,
      "outputs": [
        {
          "output_type": "stream",
          "name": "stdout",
          "text": [
            "[{'name': 'Mr. Mark Elliot Zuckerberg', 'title': 'Founder, Chairman & CEO', 'pay': '25.29M'}, {'name': 'Mr. David M. Wehner', 'title': 'Chief Financial Officer', 'pay': '1.77M'}, {'name': 'Ms. Sheryl Kara Sandberg', 'title': 'COO & Director', 'pay': '10.38M'}, {'name': 'Mr. Michael T. Schroepfer', 'title': 'Chief Technology Officer', 'pay': '1.68M'}, {'name': 'Mr. Christopher K. Cox', 'title': 'Chief Product Officer', 'pay': '2.1M'}, {'name': 'Ms. Susan Jannifer Simone Taylor', 'title': 'Chief Accounting Officer', 'pay': 'N/A'}, {'name': 'Mr. Atish  Banerjea', 'title': 'Chief Information Officer', 'pay': 'N/A'}, {'name': 'Ms. Deborah T. Crawford', 'title': 'VP of Investor Relations', 'pay': 'N/A'}, {'name': 'Ms. Jennifer G. Newstead', 'title': 'Chief Legal Officer', 'pay': 'N/A'}, {'name': 'Mr. Henry T. A. Moniz', 'title': 'Chief Compliance Officer', 'pay': 'N/A'}]\n"
          ]
        }
      ]
    },
    {
      "cell_type": "code",
      "metadata": {
        "id": "sk9HOFCYwDHe"
      },
      "source": [
        "def get_exec_records(soup): \n",
        "  table = soup.find('table')\n",
        "  body =table.find('tbody')\n",
        "  rows = body.find_all('tr')\n",
        "  \n",
        "  exec_records = []\n",
        "  for row in rows:\n",
        "    result = get_first_3_cells(row)\n",
        "    exec_records.append(result)\n",
        "  return exec_records"
      ],
      "execution_count": null,
      "outputs": []
    },
    {
      "cell_type": "code",
      "metadata": {
        "colab": {
          "base_uri": "https://localhost:8080/"
        },
        "id": "133nNiwhwY11",
        "outputId": "efc207ef-4ea2-4583-8893-615d4cdddcfb"
      },
      "source": [
        "get_exec_records()"
      ],
      "execution_count": null,
      "outputs": [
        {
          "output_type": "execute_result",
          "data": {
            "text/plain": [
              "[{'name': 'Mr. Mark Elliot Zuckerberg',\n",
              "  'pay': '25.29M',\n",
              "  'title': 'Founder, Chairman & CEO'},\n",
              " {'name': 'Mr. David M. Wehner',\n",
              "  'pay': '1.77M',\n",
              "  'title': 'Chief Financial Officer'},\n",
              " {'name': 'Ms. Sheryl Kara Sandberg',\n",
              "  'pay': '10.38M',\n",
              "  'title': 'COO & Director'},\n",
              " {'name': 'Mr. Michael T. Schroepfer',\n",
              "  'pay': '1.68M',\n",
              "  'title': 'Chief Technology Officer'},\n",
              " {'name': 'Mr. Christopher K. Cox',\n",
              "  'pay': '2.1M',\n",
              "  'title': 'Chief Product Officer'},\n",
              " {'name': 'Ms. Susan Jannifer Simone Taylor',\n",
              "  'pay': 'N/A',\n",
              "  'title': 'Chief Accounting Officer'},\n",
              " {'name': 'Mr. Atish  Banerjea',\n",
              "  'pay': 'N/A',\n",
              "  'title': 'Chief Information Officer'},\n",
              " {'name': 'Ms. Deborah T. Crawford',\n",
              "  'pay': 'N/A',\n",
              "  'title': 'VP of Investor Relations'},\n",
              " {'name': 'Ms. Jennifer G. Newstead',\n",
              "  'pay': 'N/A',\n",
              "  'title': 'Chief Legal Officer'},\n",
              " {'name': 'Mr. Henry T. A. Moniz',\n",
              "  'pay': 'N/A',\n",
              "  'title': 'Chief Compliance Officer'}]"
            ]
          },
          "metadata": {},
          "execution_count": 42
        }
      ]
    }
  ]
}