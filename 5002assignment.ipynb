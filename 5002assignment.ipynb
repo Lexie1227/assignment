{
  "nbformat": 4,
  "nbformat_minor": 0,
  "metadata": {
    "colab": {
      "name": "fixed",
      "provenance": [],
      "authorship_tag": "ABX9TyOyXGMBCtvpUOxAw+4gHYCr",
      "include_colab_link": true
    },
    "kernelspec": {
      "name": "python3",
      "display_name": "Python 3"
    },
    "language_info": {
      "name": "python"
    }
  },
  "cells": [
    {
      "cell_type": "markdown",
      "metadata": {
        "id": "view-in-github",
        "colab_type": "text"
      },
      "source": [
        "<a href=\"https://colab.research.google.com/github/Lexie1227/assignment/blob/main/5002assignment.ipynb\" target=\"_parent\"><img src=\"https://colab.research.google.com/assets/colab-badge.svg\" alt=\"Open In Colab\"/></a>"
      ]
    },
    {
      "cell_type": "code",
      "metadata": {
        "colab": {
          "base_uri": "https://localhost:8080/"
        },
        "id": "BGG-0vKIp9BW",
        "outputId": "21b9a8b8-edc9-4bba-b030-8f1cac6802a6"
      },
      "source": [
        "#use ticker to get page\n",
        "company_ticker = input(\"What is your Company's Stock Market Ticker Symbol? \")\n",
        "url = \"https://au.finance.yahoo.com/quote/{}/profile?p={}\".format(company_ticker,company_ticker)\n",
        "print(url)"
      ],
      "execution_count": null,
      "outputs": [
        {
          "output_type": "stream",
          "name": "stdout",
          "text": [
            "What is your Company's Stock Market Ticker Symbol? FB\n",
            "https://au.finance.yahoo.com/quote/FB/profile?p=FB\n"
          ]
        }
      ]
    },
    {
      "cell_type": "code",
      "metadata": {
        "id": "UmPGGPzqmHXa"
      },
      "source": [
        "def build_url():\n",
        "  # User input ticker symbol\n",
        "  ticker_symbol = input(\"Please input ticker symbol \")\n",
        "  \n",
        "  # print(ticker_symbol)\n",
        "  example_url = 'https://au.finance.yahoo.com/quote/{}/profile?p={}'\n",
        "  result = example_url.format(ticker_symbol, ticker_symbol)\n",
        "  return result"
      ],
      "execution_count": null,
      "outputs": []
    },
    {
      "cell_type": "code",
      "metadata": {
        "colab": {
          "base_uri": "https://localhost:8080/"
        },
        "id": "0IGxY1uIqzW7",
        "outputId": "86025028-1895-4a26-cec4-80ad7e728d30"
      },
      "source": [
        "# Usually run of Google Coolab, so install unique packages\n",
        "!pip install kora -q\n",
        "\n",
        "#load packages\n",
        "from bs4 import BeautifulSoup\n",
        "from kora.selenium import wd\n",
        "import pandas as pd"
      ],
      "execution_count": null,
      "outputs": [
        {
          "output_type": "stream",
          "name": "stdout",
          "text": [
            "\u001b[?25l\r\u001b[K     |█████▊                          | 10 kB 22.6 MB/s eta 0:00:01\r\u001b[K     |███████████▍                    | 20 kB 26.1 MB/s eta 0:00:01\r\u001b[K     |█████████████████               | 30 kB 20.4 MB/s eta 0:00:01\r\u001b[K     |██████████████████████▊         | 40 kB 16.8 MB/s eta 0:00:01\r\u001b[K     |████████████████████████████▍   | 51 kB 8.2 MB/s eta 0:00:01\r\u001b[K     |████████████████████████████████| 57 kB 3.2 MB/s \n",
            "\u001b[?25h\u001b[?25l\r\u001b[K     |█████▉                          | 10 kB 27.3 MB/s eta 0:00:01\r\u001b[K     |███████████▊                    | 20 kB 33.2 MB/s eta 0:00:01\r\u001b[K     |█████████████████▌              | 30 kB 39.6 MB/s eta 0:00:01\r\u001b[K     |███████████████████████▍        | 40 kB 43.1 MB/s eta 0:00:01\r\u001b[K     |█████████████████████████████▎  | 51 kB 46.0 MB/s eta 0:00:01\r\u001b[K     |████████████████████████████████| 56 kB 4.1 MB/s \n",
            "\u001b[?25h"
          ]
        }
      ]
    },
    {
      "cell_type": "code",
      "metadata": {
        "id": "8fnuO5XJuxM8"
      },
      "source": [
        "def get_first_3_cells(row):\n",
        "  cells = row.find_all('td')\n",
        "  name = cells[0].text\n",
        "  title = cells[1].text\n",
        "  pay = cells[2].text\n",
        "  return {'name': name, 'title': title, 'pay': pay}\n"
      ],
      "execution_count": null,
      "outputs": []
    },
    {
      "cell_type": "code",
      "metadata": {
        "id": "sk9HOFCYwDHe"
      },
      "source": [
        "def get_exec_records(soup): \n",
        "  table = soup.find('table')\n",
        "  body =table.find('tbody')\n",
        "  rows = body.find_all('tr')\n",
        "  \n",
        "  exec_records = []\n",
        "  for row in rows:\n",
        "    result = get_first_3_cells(row)\n",
        "    exec_records.append(result)\n",
        "  return exec_records"
      ],
      "execution_count": null,
      "outputs": []
    },
    {
      "cell_type": "code",
      "metadata": {
        "id": "j0T6mbsF4Q0m"
      },
      "source": [
        "def calculate_tax(income):\n",
        "  if income <= 18200:\n",
        "    tax_payable = 0\n",
        "  elif 18200 < income <= 45000:\n",
        "    tax_payable = 0.19 * (income - 18200)\n",
        "  elif 45000 < income < 120000:\n",
        "    tax_payable = 5092 + 0.32 * (income - 45000)\n",
        "  elif 120001 < income < 180000:\n",
        "    tax_payable = 29467 + 0.37 * (income - 120000)\n",
        "  elif income > 180000:\n",
        "    tax_payable = 51667 + 0.45 * (income - 180000)\n",
        "\n",
        "\n",
        "  return tax_payable"
      ],
      "execution_count": null,
      "outputs": []
    },
    {
      "cell_type": "code",
      "metadata": {
        "id": "eNamStgN1Po4"
      },
      "source": [
        "def get_salary (rec):\n",
        "  pay = rec['pay']\n",
        "  last_char = pay[-1]\n",
        "  num_part = pay[0:-1]\n",
        "\n",
        "  if last_char == 'M':\n",
        "    salary = float(num_part) * 1000000\n",
        "    #print(\"Millions\")\n",
        "  elif last_char == 'k':\n",
        "    salary = float(num_part) * 1000\n",
        "    #print(\"Thousand\")\n",
        "  else:\n",
        "    salary = 0\n",
        "    #print(\"Not sure\")\n",
        "\n",
        "  return salary"
      ],
      "execution_count": null,
      "outputs": []
    },
    {
      "cell_type": "code",
      "metadata": {
        "id": "BRN343qVq2gK",
        "colab": {
          "base_uri": "https://localhost:8080/",
          "height": 376
        },
        "outputId": "859b40ef-01d4-4536-ef1e-a44ea9ef3313"
      },
      "source": [
        "#get url\n",
        "url = build_url()\n",
        "wd.get(url)\n",
        "soup = BeautifulSoup(wd.page_source,\"html.parser\")\n",
        "records = get_exec_records(soup)\n",
        "\n",
        "for record in records:\n",
        "  result = get_salary(record)\n",
        "  income_tax = calculate_tax(result)\n",
        "  record['tax'] = income_tax\n",
        "\n",
        "#create a panda datafarme\n",
        "\n",
        "execs_df = pd.DataFrame.from_records(records)\n",
        "execs_df"
      ],
      "execution_count": null,
      "outputs": [
        {
          "name": "stdout",
          "output_type": "stream",
          "text": [
            "Please input ticker symbol FB\n"
          ]
        },
        {
          "output_type": "execute_result",
          "data": {
            "text/html": [
              "<div>\n",
              "<style scoped>\n",
              "    .dataframe tbody tr th:only-of-type {\n",
              "        vertical-align: middle;\n",
              "    }\n",
              "\n",
              "    .dataframe tbody tr th {\n",
              "        vertical-align: top;\n",
              "    }\n",
              "\n",
              "    .dataframe thead th {\n",
              "        text-align: right;\n",
              "    }\n",
              "</style>\n",
              "<table border=\"1\" class=\"dataframe\">\n",
              "  <thead>\n",
              "    <tr style=\"text-align: right;\">\n",
              "      <th></th>\n",
              "      <th>name</th>\n",
              "      <th>title</th>\n",
              "      <th>pay</th>\n",
              "      <th>tax</th>\n",
              "    </tr>\n",
              "  </thead>\n",
              "  <tbody>\n",
              "    <tr>\n",
              "      <th>0</th>\n",
              "      <td>Mr. Mark Elliot Zuckerberg</td>\n",
              "      <td>Founder, Chairman &amp; CEO</td>\n",
              "      <td>25.29M</td>\n",
              "      <td>11351167.0</td>\n",
              "    </tr>\n",
              "    <tr>\n",
              "      <th>1</th>\n",
              "      <td>Mr. David M. Wehner</td>\n",
              "      <td>Chief Financial Officer</td>\n",
              "      <td>1.77M</td>\n",
              "      <td>767167.0</td>\n",
              "    </tr>\n",
              "    <tr>\n",
              "      <th>2</th>\n",
              "      <td>Ms. Sheryl Kara Sandberg</td>\n",
              "      <td>COO &amp; Director</td>\n",
              "      <td>10.38M</td>\n",
              "      <td>4641667.0</td>\n",
              "    </tr>\n",
              "    <tr>\n",
              "      <th>3</th>\n",
              "      <td>Mr. Michael T. Schroepfer</td>\n",
              "      <td>Chief Technology Officer</td>\n",
              "      <td>1.68M</td>\n",
              "      <td>726667.0</td>\n",
              "    </tr>\n",
              "    <tr>\n",
              "      <th>4</th>\n",
              "      <td>Mr. Christopher K. Cox</td>\n",
              "      <td>Chief Product Officer</td>\n",
              "      <td>2.1M</td>\n",
              "      <td>915667.0</td>\n",
              "    </tr>\n",
              "    <tr>\n",
              "      <th>5</th>\n",
              "      <td>Ms. Susan Jannifer Simone Taylor</td>\n",
              "      <td>Chief Accounting Officer</td>\n",
              "      <td>N/A</td>\n",
              "      <td>0.0</td>\n",
              "    </tr>\n",
              "    <tr>\n",
              "      <th>6</th>\n",
              "      <td>Mr. Atish  Banerjea</td>\n",
              "      <td>Chief Information Officer</td>\n",
              "      <td>N/A</td>\n",
              "      <td>0.0</td>\n",
              "    </tr>\n",
              "    <tr>\n",
              "      <th>7</th>\n",
              "      <td>Ms. Deborah T. Crawford</td>\n",
              "      <td>VP of Investor Relations</td>\n",
              "      <td>N/A</td>\n",
              "      <td>0.0</td>\n",
              "    </tr>\n",
              "    <tr>\n",
              "      <th>8</th>\n",
              "      <td>Ms. Jennifer G. Newstead</td>\n",
              "      <td>Chief Legal Officer</td>\n",
              "      <td>N/A</td>\n",
              "      <td>0.0</td>\n",
              "    </tr>\n",
              "    <tr>\n",
              "      <th>9</th>\n",
              "      <td>Mr. Henry T. A. Moniz</td>\n",
              "      <td>Chief Compliance Officer</td>\n",
              "      <td>N/A</td>\n",
              "      <td>0.0</td>\n",
              "    </tr>\n",
              "  </tbody>\n",
              "</table>\n",
              "</div>"
            ],
            "text/plain": [
              "                               name  ...         tax\n",
              "0        Mr. Mark Elliot Zuckerberg  ...  11351167.0\n",
              "1               Mr. David M. Wehner  ...    767167.0\n",
              "2          Ms. Sheryl Kara Sandberg  ...   4641667.0\n",
              "3         Mr. Michael T. Schroepfer  ...    726667.0\n",
              "4            Mr. Christopher K. Cox  ...    915667.0\n",
              "5  Ms. Susan Jannifer Simone Taylor  ...         0.0\n",
              "6               Mr. Atish  Banerjea  ...         0.0\n",
              "7           Ms. Deborah T. Crawford  ...         0.0\n",
              "8          Ms. Jennifer G. Newstead  ...         0.0\n",
              "9             Mr. Henry T. A. Moniz  ...         0.0\n",
              "\n",
              "[10 rows x 4 columns]"
            ]
          },
          "metadata": {},
          "execution_count": 50
        }
      ]
    }
  ]
}