{
  "nbformat": 4,
  "nbformat_minor": 0,
  "metadata": {
    "colab": {
      "name": "fixed",
      "provenance": [],
      "authorship_tag": "ABX9TyOFo8qpnJZrz1ZSK/oEb/kO",
      "include_colab_link": true
    },
    "kernelspec": {
      "name": "python3",
      "display_name": "Python 3"
    },
    "language_info": {
      "name": "python"
    }
  },
  "cells": [
    {
      "cell_type": "markdown",
      "metadata": {
        "id": "view-in-github",
        "colab_type": "text"
      },
      "source": [
        "<a href=\"https://colab.research.google.com/github/Lexie1227/assignment/blob/main/fixed.ipynb\" target=\"_parent\"><img src=\"https://colab.research.google.com/assets/colab-badge.svg\" alt=\"Open In Colab\"/></a>"
      ]
    },
    {
      "cell_type": "code",
      "metadata": {
        "colab": {
          "base_uri": "https://localhost:8080/"
        },
        "id": "BGG-0vKIp9BW",
        "outputId": "ef0eae29-5a94-4515-cc3f-2b95b23d4633"
      },
      "source": [
        "#use ticker to get page\n",
        "company_ticker = input(\"What is your Company's Stock Market Ticker Symbol? \")\n",
        "url = \"https://au.finance.yahoo.com/quote/{}/profile?p={}\".format(company_ticker,company_ticker)\n",
        "print(url)"
      ],
      "execution_count": null,
      "outputs": [
        {
          "output_type": "stream",
          "name": "stdout",
          "text": [
            "What is your Company's Stock Market Ticker Symbol? FB\n",
            "https://au.finance.yahoo.com/quote/FB/profile?p=FB\n"
          ]
        }
      ]
    },
    {
      "cell_type": "code",
      "metadata": {
        "id": "UmPGGPzqmHXa"
      },
      "source": [
        "def build_url():\n",
        "  # User input ticker symbol\n",
        "  ticker_symbol = input(\"Please input ticker symbol \")\n",
        "  \n",
        "  # print(ticker_symbol)\n",
        "  example_url = 'https://au.finance.yahoo.com/quote/{}/profile?p={}'\n",
        "  result = example_url.format(ticker_symbol, ticker_symbol)\n",
        "  return result"
      ],
      "execution_count": null,
      "outputs": []
    },
    {
      "cell_type": "code",
      "metadata": {
        "id": "pRXiNwOgmquD",
        "colab": {
          "base_uri": "https://localhost:8080/"
        },
        "outputId": "0f82d2f2-cdcf-4a1d-c73c-5bc934dff427"
      },
      "source": [
        "#get url\n",
        "url = build_url()\n",
        "print(url)\n"
      ],
      "execution_count": null,
      "outputs": [
        {
          "output_type": "stream",
          "name": "stdout",
          "text": [
            "Please input ticker symbol FB\n",
            "https://au.finance.yahoo.com/quote/FB/profile?p=FB\n"
          ]
        }
      ]
    },
    {
      "cell_type": "code",
      "metadata": {
        "colab": {
          "base_uri": "https://localhost:8080/"
        },
        "id": "0IGxY1uIqzW7",
        "outputId": "318e1113-201f-4606-a4a7-834ead7ceeb0"
      },
      "source": [
        "# Usually run of Google Coolab, so install unique packages\n",
        "!pip install kora -q\n",
        "\n",
        "#load packages\n",
        "from bs4 import BeautifulSoup\n",
        "from kora.selenium import wd\n",
        "import pandas as pd"
      ],
      "execution_count": null,
      "outputs": [
        {
          "output_type": "stream",
          "name": "stdout",
          "text": [
            "\u001b[K     |████████████████████████████████| 57 kB 2.3 MB/s \n",
            "\u001b[K     |████████████████████████████████| 56 kB 3.3 MB/s \n",
            "\u001b[?25h"
          ]
        }
      ]
    },
    {
      "cell_type": "code",
      "metadata": {
        "id": "8fnuO5XJuxM8"
      },
      "source": [
        "def get_first_3_cells(row):\n",
        "  cells = row.find_all('td')\n",
        "  name = cells[0].text\n",
        "  title = cells[1].text\n",
        "  pay = cells[2].text\n",
        "  return {'name': name, 'title': title, 'pay': pay}\n"
      ],
      "execution_count": null,
      "outputs": []
    },
    {
      "cell_type": "code",
      "metadata": {
        "id": "sk9HOFCYwDHe"
      },
      "source": [
        "def get_exec_records(soup): \n",
        "  table = soup.find('table')\n",
        "  body =table.find('tbody')\n",
        "  rows = body.find_all('tr')\n",
        "  \n",
        "  exec_records = []\n",
        "  for row in rows:\n",
        "    result = get_first_3_cells(row)\n",
        "    exec_records.append(result)\n",
        "  return exec_records"
      ],
      "execution_count": null,
      "outputs": []
    },
    {
      "cell_type": "code",
      "metadata": {
        "id": "BRN343qVq2gK"
      },
      "source": [
        "#get url\n",
        "wd.get(url)\n",
        "soup = BeautifulSoup(wd.page_source,\"html.parser\")\n",
        "get_exec_records()"
      ],
      "execution_count": null,
      "outputs": []
    }
  ]
}